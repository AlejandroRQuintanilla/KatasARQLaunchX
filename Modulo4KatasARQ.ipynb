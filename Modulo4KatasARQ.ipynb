{
 "cells": [
  {
   "cell_type": "markdown",
   "metadata": {},
   "source": [
    "## Modulo 4 Katas "
   ]
  },
  {
   "cell_type": "markdown",
   "metadata": {},
   "source": [
    "_______\n",
    "Ejercicio 1: Transformar cadenas\n",
    "_________"
   ]
  },
  {
   "cell_type": "code",
   "execution_count": 13,
   "metadata": {},
   "outputs": [],
   "source": [
    "text = \"\"\"Interesting facts about the Moon. The Moon is Earth's only satellite. There are several interesting facts about the Moon and how it affects life here on Earth. \n",
    "On average, the Moon moves 4cm away from the Earth every year. This yearly drift is not significant enough to cause immediate effects on Earth. The highest daylight temperature of the Moon is 127 C.\"\"\""
   ]
  },
  {
   "cell_type": "code",
   "execution_count": 14,
   "metadata": {},
   "outputs": [
    {
     "data": {
      "text/plain": [
       "['Interesting facts about the Moon',\n",
       " \"The Moon is Earth's only satellite\",\n",
       " 'There are several interesting facts about the Moon and how it affects life here on Earth',\n",
       " '\\nOn average, the Moon moves 4cm away from the Earth every year',\n",
       " 'This yearly drift is not significant enough to cause immediate effects on Earth',\n",
       " 'The highest daylight temperature of the Moon is 127 C.']"
      ]
     },
     "execution_count": 14,
     "metadata": {},
     "output_type": "execute_result"
    }
   ],
   "source": [
    "# Parte 1 , dividir el texto\n",
    "text_frac = text .split(\". \")\n",
    "text_frac"
   ]
  },
  {
   "cell_type": "code",
   "execution_count": 15,
   "metadata": {},
   "outputs": [],
   "source": [
    "#Palabras claves \n",
    "palabras_clave = [\"average\", \"temperature\", \"distance\"]"
   ]
  },
  {
   "cell_type": "code",
   "execution_count": 16,
   "metadata": {},
   "outputs": [
    {
     "name": "stdout",
     "output_type": "stream",
     "text": [
      "\n",
      "On average, the Moon moves 4cm away from the Earth every year\n",
      "The highest daylight temperature of the Moon is 127 C.\n"
     ]
    }
   ],
   "source": [
    "#Crear bucles para imprimir datos sobre la luna con las palabras clave\n",
    "for phrase in text_frac:\n",
    "    for palabra_clave in palabras_clave:\n",
    "        if palabra_clave in phrase:\n",
    "            print(phrase)\n",
    "            break"
   ]
  },
  {
   "cell_type": "code",
   "execution_count": 17,
   "metadata": {},
   "outputs": [
    {
     "name": "stdout",
     "output_type": "stream",
     "text": [
      "\n",
      "On average, the Moon moves 4cm away from the Earth every year\n",
      "The highest daylight temperature of the Moon is 127 Celsius.\n"
     ]
    }
   ],
   "source": [
    "# Actualizar  para cambiar C a Celsius\n",
    "for phrase in text_frac:\n",
    "    for palabra_clave in palabras_clave:\n",
    "        if palabra_clave in phrase:\n",
    "            print(phrase . replace(\"C\", \"Celsius\"))\n",
    "            break"
   ]
  },
  {
   "cell_type": "markdown",
   "metadata": {},
   "source": [
    "_________\n",
    "Ejercico 2: Formateando Cadenas\n",
    "_________"
   ]
  },
  {
   "cell_type": "code",
   "execution_count": 96,
   "metadata": {},
   "outputs": [],
   "source": [
    "#Variables \n",
    "name = \"Moon\"\n",
    "gravity = 0.00162 #in kms\n",
    "planet = \"Earth\""
   ]
  },
  {
   "cell_type": "code",
   "execution_count": 97,
   "metadata": {},
   "outputs": [],
   "source": [
    "titulo_texto = f'Gravity Facts about {name}'\n"
   ]
  },
  {
   "cell_type": "code",
   "execution_count": 98,
   "metadata": {},
   "outputs": [],
   "source": [
    "hechos = f\"\"\" -----------------------------------------\n",
    "Planet's name: {planet}\n",
    "Gravity on {name} : {gravity * 1000} m/s2\"\"\"\n"
   ]
  },
  {
   "cell_type": "code",
   "execution_count": 99,
   "metadata": {},
   "outputs": [
    {
     "name": "stdout",
     "output_type": "stream",
     "text": [
      "Gravity Facts about Moon \n",
      "  -----------------------------------------\n",
      "Planet's name: Earth\n",
      "Gravity on Moon : 1.6199999999999999 m/s2\n"
     ]
    }
   ],
   "source": [
    "Plantilla = f'{titulo_texto} \\n {hechos}'\n",
    "print(Plantilla)"
   ]
  },
  {
   "cell_type": "code",
   "execution_count": 101,
   "metadata": {},
   "outputs": [],
   "source": [
    "# Nuevos datos muestra\n",
    "name = 'Ganímedes'\n",
    "gravity  = 0.00143\n",
    "planet = 'Marte '"
   ]
  },
  {
   "cell_type": "code",
   "execution_count": 103,
   "metadata": {},
   "outputs": [
    {
     "name": "stdout",
     "output_type": "stream",
     "text": [
      "Gravity Facts about Moon \n",
      "  -----------------------------------------\n",
      "Planet's name: Earth\n",
      "Gravity on Moon : 1.6199999999999999 m/s2\n"
     ]
    }
   ],
   "source": [
    "print(Plantilla)"
   ]
  },
  {
   "cell_type": "markdown",
   "metadata": {},
   "source": [
    "Nueva plantilla con .format()"
   ]
  },
  {
   "cell_type": "code",
   "execution_count": 105,
   "metadata": {},
   "outputs": [
    {
     "name": "stdout",
     "output_type": "stream",
     "text": [
      " Gravity Facts about Ganímedes\n",
      "-----------------------------------------\n",
      "Planet's name: Marte \n",
      "Gravity on Ganímedes : 1.4300000000000002 m/s2\n"
     ]
    }
   ],
   "source": [
    "nueva_plantilla = \"\"\" Gravity Facts about {0}\n",
    "-----------------------------------------\n",
    "Planet's name: {1}\n",
    "Gravity on {0} : {2} m/s2\"\"\".format(name, planet, gravity*1000)\n",
    "\n",
    "print(nueva_plantilla)"
   ]
  }
 ],
 "metadata": {
  "interpreter": {
   "hash": "39af9c3245cc09c32a61967be97c110d6973624e35dfb18d6fd8fa1b1f949327"
  },
  "kernelspec": {
   "display_name": "Python 3.10.2 64-bit",
   "language": "python",
   "name": "python3"
  },
  "language_info": {
   "codemirror_mode": {
    "name": "ipython",
    "version": 3
   },
   "file_extension": ".py",
   "mimetype": "text/x-python",
   "name": "python",
   "nbconvert_exporter": "python",
   "pygments_lexer": "ipython3",
   "version": "3.10.2"
  },
  "orig_nbformat": 4
 },
 "nbformat": 4,
 "nbformat_minor": 2
}
