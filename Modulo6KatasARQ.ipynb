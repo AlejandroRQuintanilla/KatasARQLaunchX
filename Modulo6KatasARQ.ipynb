{
 "cells": [
  {
   "cell_type": "markdown",
   "metadata": {},
   "source": [
    "# Kata 6 \n",
    "_______________"
   ]
  },
  {
   "cell_type": "markdown",
   "metadata": {},
   "source": [
    "Ejercicio 1\n",
    "_________"
   ]
  },
  {
   "cell_type": "code",
   "execution_count": 1,
   "metadata": {},
   "outputs": [
    {
     "name": "stdout",
     "output_type": "stream",
     "text": [
      " El número de planetas del sistema solar es de: 8  y son : ['Mercurio', 'Venus', 'Tierra', 'Marte', 'Jupiter', 'Saturno', 'Urano', 'Neptuno']\n"
     ]
    }
   ],
   "source": [
    "# Definier 1er lista\n",
    "planetas = ['Mercurio','Venus', 'Tierra', 'Marte', 'Jupiter', 'Saturno', 'Urano', 'Neptuno']\n",
    "num_planetas = len(planetas) \n",
    "\n",
    "print (' El número de planetas del sistema solar es de:', num_planetas, ' y son :', planetas)"
   ]
  },
  {
   "cell_type": "code",
   "execution_count": 3,
   "metadata": {},
   "outputs": [
    {
     "name": "stdout",
     "output_type": "stream",
     "text": [
      "el numero total de planetas es: 10 Y el ultimo planeta es Plutón\n"
     ]
    }
   ],
   "source": [
    "planetas.append('Plutón')\n",
    "num_planetas = len(planetas)\n",
    "\n",
    "print( 'el numero total de planetas es:', num_planetas, 'Y el ultimo planeta es', planetas[-1])"
   ]
  },
  {
   "cell_type": "markdown",
   "metadata": {},
   "source": [
    "____\n",
    "Ejercicio 2\n",
    "_______"
   ]
  },
  {
   "cell_type": "code",
   "execution_count": 4,
   "metadata": {},
   "outputs": [],
   "source": [
    "# Lista de planetas\n",
    "planets = ['Mercury', 'Venus', 'Earth', 'Mars', 'Jupiter', 'Saturn', 'Neptune']"
   ]
  },
  {
   "cell_type": "code",
   "execution_count": 5,
   "metadata": {},
   "outputs": [],
   "source": [
    "#Solicitar nombre del planeta(Íngles)\n",
    "solicitud = input('Favor de indicar el nombre de un planeta (Iniciar con mayuscula el nombre')"
   ]
  },
  {
   "cell_type": "code",
   "execution_count": 6,
   "metadata": {},
   "outputs": [
    {
     "name": "stdout",
     "output_type": "stream",
     "text": [
      "3\n"
     ]
    }
   ],
   "source": [
    "#Buscar planeta en la lista\n",
    "planeta_ingresado = planets.index(solicitud)\n",
    "\n",
    "print(planeta_ingresado +1)"
   ]
  },
  {
   "cell_type": "code",
   "execution_count": 8,
   "metadata": {},
   "outputs": [
    {
     "name": "stdout",
     "output_type": "stream",
     "text": [
      "Los planetas  mas cecanos al sol, en comparacion con el seleccionado  Earth son :  ['Mercury', 'Venus']\n"
     ]
    }
   ],
   "source": [
    "#Mostrar planetas mas cercanos al sol que el seelccionado por el usuario\n",
    "\n",
    "print (\"Los planetas  mas cecanos al sol, en comparacion con el seleccionado \", solicitud, 'son : ', planets[0:planeta_ingresado])\n"
   ]
  },
  {
   "cell_type": "code",
   "execution_count": 10,
   "metadata": {},
   "outputs": [
    {
     "name": "stdout",
     "output_type": "stream",
     "text": [
      "Los planetas  mas cecanos al sol, en comparacion con el seleccionado  Earth son :  ['Mars', 'Jupiter', 'Saturn', 'Neptune']\n"
     ]
    }
   ],
   "source": [
    "#Mostrar planetas mas lejanos al sol que el seelccionado por el usuario\n",
    "\n",
    "print (\"Los planetas  mas cecanos al sol, en comparacion con el seleccionado \", solicitud, 'son : ', planets[planeta_ingresado + 1:])"
   ]
  }
 ],
 "metadata": {
  "interpreter": {
   "hash": "39af9c3245cc09c32a61967be97c110d6973624e35dfb18d6fd8fa1b1f949327"
  },
  "kernelspec": {
   "display_name": "Python 3.10.2 64-bit",
   "language": "python",
   "name": "python3"
  },
  "language_info": {
   "codemirror_mode": {
    "name": "ipython",
    "version": 3
   },
   "file_extension": ".py",
   "mimetype": "text/x-python",
   "name": "python",
   "nbconvert_exporter": "python",
   "pygments_lexer": "ipython3",
   "version": "3.10.2"
  },
  "orig_nbformat": 4
 },
 "nbformat": 4,
 "nbformat_minor": 2
}
