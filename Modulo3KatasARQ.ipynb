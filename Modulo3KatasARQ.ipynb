{
 "cells": [
  {
   "cell_type": "markdown",
   "metadata": {},
   "source": [
    "# Ejercicio 1 - Declaraciones if, else y elif"
   ]
  },
  {
   "cell_type": "code",
   "execution_count": 14,
   "metadata": {},
   "outputs": [
    {
     "name": "stdout",
     "output_type": "stream",
     "text": [
      "El asteroide no representa un peligro para la tierra (19 km/s) Sigue tu  día\n"
     ]
    }
   ],
   "source": [
    "#####Velocidad del asteroide\n",
    "VelAsteroide = input(\"introduzca la velocidad (km/s) de asteroide detectado: \")\n",
    "\n",
    "if  int(VelAsteroide) > 25:\n",
    "    print(\"Peligro, asteroide acercandose a gran velocidad! \" + \"(\" + VelAsteroide + \" km/s)\")\n",
    "else:\n",
    "    print(\"El asteroide no representa un peligro para la tierra \" + \"(\" + VelAsteroide + \" km/s) Sigue tu  día\" )\n",
    "\n",
    "#print(\"la velocidad del asteroride es: \"+ VelAsteroide + \" km/s\")"
   ]
  },
  {
   "cell_type": "markdown",
   "metadata": {},
   "source": [
    "# Ejercicio 2 - Declaraciones if, else y elif"
   ]
  },
  {
   "cell_type": "code",
   "execution_count": 20,
   "metadata": {},
   "outputs": [
    {
     "name": "stdout",
     "output_type": "stream",
     "text": [
      "Luz generada en el cielo a causa de un asteroide!\n"
     ]
    }
   ],
   "source": [
    "##### Definir variables\n",
    "asteroide = input(\"Vel. del asteriode (km/s)\") \n",
    "\n",
    "if int(asteroide) > 20:\n",
    "    print(\"Luz generada en el cielo a causa de un asteroide!\")\n",
    "elif int(asteroide) == 20:\n",
    "    print(\"Luz generada en el cielo a causa de un asteroide!\")\n",
    "else:\n",
    "    print(\"En el cielo no se detecta nada\")"
   ]
  },
  {
   "cell_type": "markdown",
   "metadata": {},
   "source": [
    "# Ejercicio 3 - Uso de operadores and y or "
   ]
  },
  {
   "cell_type": "code",
   "execution_count": 31,
   "metadata": {},
   "outputs": [
    {
     "name": "stdout",
     "output_type": "stream",
     "text": [
      "Nada nuevo bajo el sol\n"
     ]
    }
   ],
   "source": [
    "#######Definir variables\n",
    "Vel = input (\"Introducier velocidad del asteroide: \")\n",
    "Dim = input(\"introduzca la dimension mayor del asteroide: \")\n",
    "\n",
    "if int(Vel) >= 25 and int(Dim) >= 25:\n",
    "    print(\"Asteroide amenazando a la tierra!\") \n",
    "elif int(Vel) >= 20:\n",
    "    print(\" Luz generada en el cielo por un asteroide\")\n",
    "elif int(Dim) < 25:\n",
    "    print(\"Nada nuevo bajo el sol\")\n",
    "else: \n",
    "    print(\"Nada nuevo bajo el sol\")"
   ]
  }
 ],
 "metadata": {
  "interpreter": {
   "hash": "39af9c3245cc09c32a61967be97c110d6973624e35dfb18d6fd8fa1b1f949327"
  },
  "kernelspec": {
   "display_name": "Python 3.10.2 64-bit",
   "language": "python",
   "name": "python3"
  },
  "language_info": {
   "codemirror_mode": {
    "name": "ipython",
    "version": 3
   },
   "file_extension": ".py",
   "mimetype": "text/x-python",
   "name": "python",
   "nbconvert_exporter": "python",
   "pygments_lexer": "ipython3",
   "version": "3.10.2"
  },
  "orig_nbformat": 4
 },
 "nbformat": 4,
 "nbformat_minor": 2
}
