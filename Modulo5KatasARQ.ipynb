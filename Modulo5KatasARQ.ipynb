{
 "cells": [
  {
   "cell_type": "markdown",
   "metadata": {},
   "source": [
    "# Modulo 5 - Katas - Operadores matemáticos \n",
    "____\n",
    "Ejercico 1\n",
    "_________"
   ]
  },
  {
   "cell_type": "code",
   "execution_count": 11,
   "metadata": {},
   "outputs": [
    {
     "name": "stdout",
     "output_type": "stream",
     "text": [
      "The distance bewteen selected planets is: 628949330 kms\n",
      "The distance in miles sbteween selected planets is: 390577533.93 miles\n"
     ]
    }
   ],
   "source": [
    "distance_earth = 149597870 #km \n",
    "distance_jupiter = 778547200 #km \n",
    "\n",
    "distance_between_km = abs(distance_earth - distance_jupiter)\n",
    "distance_between_miles = (distance_between_km * 0.621)\n",
    "\n",
    "print('The distance bewteen selected planets is:', distance_between_km, 'kms')\n",
    "print('The distance in miles sbteween selected planets is:', distance_between_miles, 'miles')"
   ]
  },
  {
   "cell_type": "markdown",
   "metadata": {},
   "source": [
    "Ejercico 2 \n",
    "____________________\n"
   ]
  },
  {
   "cell_type": "code",
   "execution_count": 21,
   "metadata": {},
   "outputs": [],
   "source": [
    "#Almaxcenar datos \n",
    "distance_planet1 = input('¿Cuál es la distancia de su planeta 1?')\n",
    "distnace_planet2 = input('¿Cuál es la distancia de su planeta 2?')"
   ]
  },
  {
   "cell_type": "code",
   "execution_count": 22,
   "metadata": {},
   "outputs": [],
   "source": [
    "#Convertir \n",
    "dist_planet1_int = int(distance_planet1)\n",
    "dist_planet2_int = int(distnace_planet2)"
   ]
  },
  {
   "cell_type": "code",
   "execution_count": 23,
   "metadata": {},
   "outputs": [
    {
     "name": "stdout",
     "output_type": "stream",
     "text": [
      "The distance between planets is: 5 kms\n",
      "The distance between planets is: 3.105 miles\n"
     ]
    }
   ],
   "source": [
    "#cálculo\n",
    "dist = abs(dist_planet1_int - dist_planet2_int)\n",
    "dist_miles = (dist * 0.621)\n",
    "print('The distance between planets is:', dist,'kms')\n",
    "print('The distance between planets is:', dist_miles,'miles')"
   ]
  }
 ],
 "metadata": {
  "interpreter": {
   "hash": "39af9c3245cc09c32a61967be97c110d6973624e35dfb18d6fd8fa1b1f949327"
  },
  "kernelspec": {
   "display_name": "Python 3.10.2 64-bit",
   "language": "python",
   "name": "python3"
  },
  "language_info": {
   "codemirror_mode": {
    "name": "ipython",
    "version": 3
   },
   "file_extension": ".py",
   "mimetype": "text/x-python",
   "name": "python",
   "nbconvert_exporter": "python",
   "pygments_lexer": "ipython3",
   "version": "3.10.2"
  },
  "orig_nbformat": 4
 },
 "nbformat": 4,
 "nbformat_minor": 2
}
