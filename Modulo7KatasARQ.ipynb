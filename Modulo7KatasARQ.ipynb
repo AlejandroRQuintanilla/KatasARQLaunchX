{
 "cells": [
  {
   "cell_type": "markdown",
   "metadata": {},
   "source": [
    "# Kata 7 - Estructuras de control\n",
    "___________"
   ]
  },
  {
   "cell_type": "markdown",
   "metadata": {},
   "source": [
    "Ejercico 1\n",
    "_________"
   ]
  },
  {
   "cell_type": "code",
   "execution_count": 5,
   "metadata": {},
   "outputs": [],
   "source": [
    "new_planet = input('Escriba nuevo planeta: ')\n",
    "planets = []"
   ]
  },
  {
   "cell_type": "code",
   "execution_count": 6,
   "metadata": {},
   "outputs": [],
   "source": [
    "# Ciclo while \n",
    "\n",
    "#Inicio del while, donde se hace la comparación para entrar al ciclo si el caso es true\n",
    "while new_planet.lower() != 'done':\n",
    "    #verificamos si existe algun valor en new_planet\n",
    "    if new_planet:\n",
    "        #Se manda el valor de new_planet a la ultima casilla de la lista planets\n",
    "        planets.append(new_planet)\n",
    "\n",
    "    #Captura nuevo valor     \n",
    "    new_planet = input('colocar nuevo planeta o escribir \"done\" para salir ')"
   ]
  },
  {
   "cell_type": "markdown",
   "metadata": {},
   "source": [
    "____________    \n",
    "Ejercicio 2\n",
    "__________"
   ]
  },
  {
   "cell_type": "code",
   "execution_count": 7,
   "metadata": {},
   "outputs": [
    {
     "name": "stdout",
     "output_type": "stream",
     "text": [
      "Marte\n",
      "Tierra\n",
      "Mandalore\n",
      "Kashik\n",
      "Tatoinne\n",
      "That's all!! 🚀\n"
     ]
    }
   ],
   "source": [
    "for show in planets:\n",
    "    print(show)\n",
    "print(\"That's all!! 🚀\")\n"
   ]
  }
 ],
 "metadata": {
  "interpreter": {
   "hash": "39af9c3245cc09c32a61967be97c110d6973624e35dfb18d6fd8fa1b1f949327"
  },
  "kernelspec": {
   "display_name": "Python 3.10.2 64-bit",
   "language": "python",
   "name": "python3"
  },
  "language_info": {
   "codemirror_mode": {
    "name": "ipython",
    "version": 3
   },
   "file_extension": ".py",
   "mimetype": "text/x-python",
   "name": "python",
   "nbconvert_exporter": "python",
   "pygments_lexer": "ipython3",
   "version": "3.10.2"
  },
  "orig_nbformat": 4
 },
 "nbformat": 4,
 "nbformat_minor": 2
}
