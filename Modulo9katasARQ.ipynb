{
 "cells": [
  {
   "cell_type": "markdown",
   "metadata": {},
   "source": [
    "# Katas modulo 9 - Funciones\n",
    "___________"
   ]
  },
  {
   "cell_type": "markdown",
   "metadata": {},
   "source": [
    "Ejercico 1\n",
    "_________"
   ]
  },
  {
   "cell_type": "code",
   "execution_count": 23,
   "metadata": {},
   "outputs": [],
   "source": [
    "# Función para leer 3 tanques de combustible y muestre el promedio\n",
    "def petrol_amount(**kwargs):\n",
    "    print(\"Fuel Repport:\")\n",
    "    print(f\"Level of the {len(kwargs)} main tanks\")\n",
    "    average = 0\n",
    "    for title, name in kwargs.items():\n",
    "        print(f\"{title}: {name} %\")\n",
    "        average = average + name\n",
    "    \n",
    "    print(f\"total average: {average /len(kwargs)} %\")\n"
   ]
  },
  {
   "cell_type": "code",
   "execution_count": 24,
   "metadata": {},
   "outputs": [
    {
     "name": "stdout",
     "output_type": "stream",
     "text": [
      "Fuel Repport:\n",
      "Level of the 3 main tanks\n",
      "Main_tank: 80 %\n",
      "external_tank: 90 %\n",
      "support_tank: 95 %\n",
      "total average: 88.33333333333333 %\n",
      "None\n"
     ]
    }
   ],
   "source": [
    "# Llamar a la función\n",
    "print(petrol_amount(Main_tank = 80, external_tank = 90, support_tank = 95 ))"
   ]
  },
  {
   "cell_type": "code",
   "execution_count": 38,
   "metadata": {},
   "outputs": [
    {
     "data": {
      "text/plain": [
       "88.33333333333333"
      ]
     },
     "execution_count": 38,
     "metadata": {},
     "output_type": "execute_result"
    }
   ],
   "source": [
    "#funcion para el promedio \n",
    "def avg( valores):\n",
    "    total = sum(valores)\n",
    "    num = len(valores)\n",
    "    return total/num\n",
    "\n",
    "\n",
    "avg([80, 90, 95])"
   ]
  },
  {
   "cell_type": "code",
   "execution_count": 39,
   "metadata": {},
   "outputs": [
    {
     "name": "stdout",
     "output_type": "stream",
     "text": [
      "Fuel Repport:\n",
      "Level of the 3 main tanks\n",
      "Main_tank: 80 %\n",
      "external_tank: 90 %\n",
      "support_tank: 95 %\n",
      "total average: 88.33333333333333 %\n",
      "None\n"
     ]
    }
   ],
   "source": [
    "# Actualziar la funcion \n",
    "def petrol_amount(**kwargs):\n",
    "    print(\"Fuel Repport:\")\n",
    "    print(f\"Level of the {len(kwargs)} main tanks\")\n",
    "    average = 0\n",
    "    for title, name in kwargs.items():\n",
    "        print(f\"{title}: {name} %\")\n",
    "        average = average + name\n",
    "    \n",
    "    print(f\"total average: {average/len(kwargs)} %\")\n",
    "\n",
    "\n",
    "print(petrol_amount(Main_tank = 80, external_tank = 90, support_tank = 95 ))\n"
   ]
  },
  {
   "cell_type": "markdown",
   "metadata": {},
   "source": [
    "_______\n",
    "Ejercico 2\n",
    "___________"
   ]
  },
  {
   "cell_type": "code",
   "execution_count": 41,
   "metadata": {},
   "outputs": [
    {
     "name": "stdout",
     "output_type": "stream",
     "text": [
      "\n",
      "    Mission to Orbita\n",
      "    Total travel time: 74 minutes\n",
      "    Total fuel left: 162000 gallons\n",
      "    \n"
     ]
    }
   ],
   "source": [
    "# Función con un informe preciso de la misión. Considera hora de prelanzamiento, tiempo de vuelo, destino, tanque externo y tanque interno\n",
    "def reporte (tiempo_pre_lanzamiento, tiempo_vuelo, destino, ext_tank, int_tank):\n",
    "    return f\"\"\"\n",
    "    Mission to {destino}\n",
    "    Total travel time: {tiempo_pre_lanzamiento + tiempo_vuelo} minutes\n",
    "    Total fuel left: {ext_tank + int_tank} gallons\n",
    "    \"\"\"\n",
    "\n",
    "print(reporte(14,60,'Orbita', 12000,150000))"
   ]
  },
  {
   "cell_type": "code",
   "execution_count": 44,
   "metadata": {},
   "outputs": [
    {
     "name": "stdout",
     "output_type": "stream",
     "text": [
      "\n",
      "    Mission to Orbita\n",
      "    Total travel time: 76 minutes\n",
      "    Total fuel left: 162000 gallons\n",
      "    \n"
     ]
    }
   ],
   "source": [
    "# \n",
    "def reporte (destino,*minutos, **tanques):\n",
    "    return f\"\"\"\n",
    "    Mission to {destino}\n",
    "    Total travel time: {sum(minutos)} minutes\n",
    "    Total fuel left: {sum(tanques.values())} gallons\n",
    "    \"\"\"\n",
    "\n",
    "print(reporte('Orbita', 45, 5, 18, 8, main=12000, ext=150000))"
   ]
  },
  {
   "cell_type": "code",
   "execution_count": 46,
   "metadata": {},
   "outputs": [
    {
     "name": "stdout",
     "output_type": "stream",
     "text": [
      "\n",
      "    Mission to Orbita\n",
      "    Total travel time: 76 minutes\n",
      "    Total fuel left: 162000 gallons\n",
      "    main tanque --> 12000 galones contenidos\n",
      "ext tanque --> 150000 galones contenidos\n",
      "\n"
     ]
    }
   ],
   "source": [
    "#Actualziar funcion \n",
    "def reporte (destino,*minutos, **tanques):\n",
    "    main_report=  f\"\"\"\n",
    "    Mission to {destino}\n",
    "    Total travel time: {sum(minutos)} minutes\n",
    "    Total fuel left: {sum(tanques.values())} gallons\n",
    "    \"\"\"\n",
    "    for tank_name, galones in tanques.items():\n",
    "        main_report += f\"{tank_name} tanque --> {galones} galones contenidos\\n\"\n",
    "    return main_report\n",
    "\n",
    "print(reporte('Orbita', 45, 5, 18, 8, main=12000, ext=150000))"
   ]
  }
 ],
 "metadata": {
  "interpreter": {
   "hash": "39af9c3245cc09c32a61967be97c110d6973624e35dfb18d6fd8fa1b1f949327"
  },
  "kernelspec": {
   "display_name": "Python 3.10.2 64-bit",
   "language": "python",
   "name": "python3"
  },
  "language_info": {
   "codemirror_mode": {
    "name": "ipython",
    "version": 3
   },
   "file_extension": ".py",
   "mimetype": "text/x-python",
   "name": "python",
   "nbconvert_exporter": "python",
   "pygments_lexer": "ipython3",
   "version": "3.10.2"
  },
  "orig_nbformat": 4
 },
 "nbformat": 4,
 "nbformat_minor": 2
}
