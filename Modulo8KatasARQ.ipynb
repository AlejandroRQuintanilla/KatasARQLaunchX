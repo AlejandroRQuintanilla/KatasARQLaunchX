{
 "cells": [
  {
   "cell_type": "markdown",
   "metadata": {},
   "source": [
    "# Kata 8 - Administrar datos con diccionarios \n",
    "_____________"
   ]
  },
  {
   "cell_type": "markdown",
   "metadata": {},
   "source": [
    "Ejercicio 1 - Creacion de diccionarios de python\n",
    "_________"
   ]
  },
  {
   "cell_type": "code",
   "execution_count": 10,
   "metadata": {},
   "outputs": [],
   "source": [
    "# Crear Diccionario llamado Planet \n",
    "planet = {\n",
    "    'name': 'Mars',\n",
    "    'moons': 2\n",
    "}"
   ]
  },
  {
   "cell_type": "code",
   "execution_count": 15,
   "metadata": {},
   "outputs": [
    {
     "name": "stdout",
     "output_type": "stream",
     "text": [
      "Mars has 2  moons\n",
      "Mars has 2  moons\n",
      "Mars has 2 moons\n"
     ]
    }
   ],
   "source": [
    "#Muestra el monre del planeta y el valor de sus lunas\n",
    "print(planet.get('name'),'has',planet.get('moons'),' moons')\n",
    "print(planet['name'],'has',planet['moons'],' moons')\n",
    "print(f'{planet[\"name\"]} has {planet[\"moons\"]} moons')"
   ]
  },
  {
   "cell_type": "code",
   "execution_count": 19,
   "metadata": {},
   "outputs": [],
   "source": [
    "#agregar la clave circunferencia con los datos proporcionados.\n",
    "\n",
    "planet['circumferencia (km)'] = {\n",
    "    'polar': 6752,\n",
    "    'equatorial': 6792\n",
    "}"
   ]
  },
  {
   "cell_type": "code",
   "execution_count": 22,
   "metadata": {},
   "outputs": [
    {
     "name": "stdout",
     "output_type": "stream",
     "text": [
      "Mars has a polar circumference of: 6752 kilometers\n",
      "Mars has a polar circumference of 6752 kilometers\n"
     ]
    }
   ],
   "source": [
    "# imprimir el nombre del planeta con su circunferencia polar \n",
    "#print(planet['name'],'polar diameter:', planet['diameter (km)']['polar'])\n",
    "print(planet['name'],'has a polar circumference of:',planet['circumferencia (km)']['polar'],'kilometers')\n",
    "print(f'{planet[\"name\"]} has a polar circumference of {planet[\"circumferencia (km)\"][\"polar\"]} kilometers')"
   ]
  },
  {
   "cell_type": "markdown",
   "metadata": {},
   "source": [
    "_____\n",
    "jercicio 2 - Programación dinámica con diccionarios\n",
    "_________"
   ]
  },
  {
   "cell_type": "code",
   "execution_count": 24,
   "metadata": {},
   "outputs": [],
   "source": [
    "#Diccionario \n",
    "# Planets and moons\n",
    "\n",
    "planet_moons = {\n",
    "    'mercury': 0,\n",
    "    'venus': 0,\n",
    "    'earth': 1,\n",
    "    'mars': 2,\n",
    "    'jupiter': 79,\n",
    "    'saturn': 82,\n",
    "    'uranus': 27,\n",
    "    'neptune': 14,\n",
    "    'pluto': 5,\n",
    "    'haumea': 2,\n",
    "    'makemake': 1,\n",
    "    'eris': 1\n",
    "}"
   ]
  },
  {
   "cell_type": "code",
   "execution_count": 37,
   "metadata": {},
   "outputs": [
    {
     "name": "stdout",
     "output_type": "stream",
     "text": [
      "dict_values([0, 0, 1, 2, 79, 82, 27, 14, 5, 2, 1, 1])\n",
      "12\n",
      "dict_keys(['mercury', 'venus', 'earth', 'mars', 'jupiter', 'saturn', 'uranus', 'neptune', 'pluto', 'haumea', 'makemake', 'eris'])\n"
     ]
    }
   ],
   "source": [
    "# Añade el código para determinar el número de lunas.\n",
    "#moons es donde se guardán los valores de todas las lunas\n",
    "#planets es donde se guarda el npumero toal de planetas del diccionario \n",
    "\n",
    "moons = planet_moons.values()  #Enlista el contenido de los valores\n",
    "print(moons)\n",
    "\n",
    "planets = planet_moons.keys() # Enlista el contenido de las claves \n",
    "length_planets = len(planet_moons.keys())\n",
    "\n",
    "\n",
    "print(length_planets)\n",
    "print(planets)"
   ]
  },
  {
   "cell_type": "code",
   "execution_count": 40,
   "metadata": {},
   "outputs": [
    {
     "name": "stdout",
     "output_type": "stream",
     "text": [
      "El número total de lunas es de: 214\n",
      "El promedio de lunas por planeta es de: 17.833333333333332\n"
     ]
    }
   ],
   "source": [
    "total_lunas = 0\n",
    "\n",
    "for lunas in planet_moons.values():\n",
    "    total_lunas = total_lunas + lunas\n",
    "\n",
    "\n",
    "average = total_lunas / length_planets\n",
    "\n",
    "print('El número total de lunas es de:',total_lunas)\n",
    "print('El promedio de lunas por planeta es de:',average)\n"
   ]
  }
 ],
 "metadata": {
  "interpreter": {
   "hash": "39af9c3245cc09c32a61967be97c110d6973624e35dfb18d6fd8fa1b1f949327"
  },
  "kernelspec": {
   "display_name": "Python 3.10.2 64-bit",
   "language": "python",
   "name": "python3"
  },
  "language_info": {
   "codemirror_mode": {
    "name": "ipython",
    "version": 3
   },
   "file_extension": ".py",
   "mimetype": "text/x-python",
   "name": "python",
   "nbconvert_exporter": "python",
   "pygments_lexer": "ipython3",
   "version": "3.10.2"
  },
  "orig_nbformat": 4
 },
 "nbformat": 4,
 "nbformat_minor": 2
}
